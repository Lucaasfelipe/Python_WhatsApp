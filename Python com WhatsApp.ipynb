{
 "cells": [
  {
   "cell_type": "code",
   "execution_count": 1,
   "id": "74e96d07",
   "metadata": {},
   "outputs": [],
   "source": [
    "# Instalar biblioteca do whatsapp. OBS.: UTILIZAR SOMENTE SE NECESSÁRIO\n",
    "#!pip install pywhatkit \n",
    "#!pip install keyboard"
   ]
  },
  {
   "cell_type": "code",
   "execution_count": 2,
   "id": "860177b1",
   "metadata": {},
   "outputs": [],
   "source": [
    "# Importar biblioteca do Whatsapp\n",
    "\n",
    "import pywhatkit     # Biblioteca WhatsApp\n",
    "import pandas as pd  # Biblioteca Manipulação de dados\n",
    "import keyboard      # Biblioteca Utilizar comandos do seu teclado\n",
    "import time          # Biblioteca de tempo de stand by"
   ]
  },
  {
   "cell_type": "code",
   "execution_count": 2,
   "id": "a1c18a6d",
   "metadata": {},
   "outputs": [],
   "source": [
    "# Parametros iniciais\n",
    "\n",
    "#Base de dados: Arquivo de consumo\n",
    "dados = pd.read_excel(\"Documentos\\Teste.xlsx\")\n",
    "\n",
    "\n",
    "# Informações do usuário\n",
    "Telefone = dados.Telefone\n",
    "Usuario = dados.Nome\n",
    "Mensagem = \"Brincando com python\"\n",
    "i = 0 "
   ]
  },
  {
   "cell_type": "code",
   "execution_count": 3,
   "id": "d4a3fa33",
   "metadata": {},
   "outputs": [],
   "source": [
    "# Loop para envio das mensagens\n",
    "\n",
    "while len(Telefone) > i:\n",
    "    pywhatkit.sendwhatmsg_instantly('+' + str(Telefone[i]), 'Olá, ' + Usuario[i] +' '+ Mensagem)\n",
    "    i = i + 1\n",
    "\n",
    "    time.sleep(20)\n",
    "    keyboard.press_and_release('ctrl + w')\n",
    "\n",
    "else: \n",
    "    pywhatkit.sendwhatmsg_instantly('+5531XXXXXXX', 'Envio da planilha finalizado') # Após finalizar a lista, ele informa ao contato; "
   ]
  }
 ],
 "metadata": {
  "kernelspec": {
   "display_name": "Python 3.10.9 64-bit (microsoft store)",
   "language": "python",
   "name": "python3"
  },
  "language_info": {
   "codemirror_mode": {
    "name": "ipython",
    "version": 3
   },
   "file_extension": ".py",
   "mimetype": "text/x-python",
   "name": "python",
   "nbconvert_exporter": "python",
   "pygments_lexer": "ipython3",
   "version": "3.10.9"
  },
  "vscode": {
   "interpreter": {
    "hash": "cab19963bc7d309267e0c9443056e9d313934936ea902296523b037d77c0f712"
   }
  }
 },
 "nbformat": 4,
 "nbformat_minor": 5
}
